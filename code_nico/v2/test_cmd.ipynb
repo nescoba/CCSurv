{
 "cells": [
  {
   "cell_type": "code",
   "execution_count": 4,
   "metadata": {
    "vscode": {
     "languageId": "r"
    }
   },
   "outputs": [
    {
     "data": {
      "text/html": [
       "'/Users/nescoba/CCSurv/code_nico/v2'"
      ],
      "text/latex": [
       "'/Users/nescoba/CCSurv/code\\_nico/v2'"
      ],
      "text/markdown": [
       "'/Users/nescoba/CCSurv/code_nico/v2'"
      ],
      "text/plain": [
       "[1] \"/Users/nescoba/CCSurv/code_nico/v2\""
      ]
     },
     "metadata": {},
     "output_type": "display_data"
    }
   ],
   "source": [
    "getwd()"
   ]
  },
  {
   "cell_type": "code",
   "execution_count": 10,
   "metadata": {
    "vscode": {
     "languageId": "r"
    }
   },
   "outputs": [],
   "source": [
    "source(\"postestimation_cmdv14.R\")"
   ]
  },
  {
   "cell_type": "code",
   "execution_count": 11,
   "metadata": {
    "vscode": {
     "languageId": "r"
    }
   },
   "outputs": [
    {
     "name": "stderr",
     "output_type": "stream",
     "text": [
      "Warning message in model.matrix.default(mt, mf, contrasts):\n",
      "“non-list contrasts argument ignored”\n"
     ]
    }
   ],
   "source": [
    "data <- read.csv(\"~/CCSurv/BCC/toy/fit.csv\")\n",
    "cc <- cancor(cbind(Chins, Situps, Jumps) ~ Weight + Waist + Pulse, data = data, weights = Weight)\n",
    "\n",
    "Results <- csdcanon(data, c(\"Chins\", \"Situps\", \"Jumps\"), c(\"Weight\", \"Waist\", \"Pulse\"), \"Weight\", cc$ndim, cc$coef$X, cc$coef$Y)\n"
   ]
  },
  {
   "cell_type": "code",
   "execution_count": 12,
   "metadata": {
    "vscode": {
     "languageId": "r"
    }
   },
   "outputs": [
    {
     "data": {
      "text/html": [
       "<table class=\"dataframe\">\n",
       "<caption>A matrix: 3 × 9 of type dbl</caption>\n",
       "<thead>\n",
       "\t<tr><th scope=col>CC Index</th><th scope=col>CC Magnitude</th><th scope=col>Wilk's Lambda</th><th scope=col>Wilk's Lambda (n)</th><th scope=col>Roy's Greatest Root</th><th scope=col>Pillai's Trace</th><th scope=col>Hotelling-Lawley Trace</th><th scope=col>Weighted Regression</th><th scope=col>CSD Regression</th></tr>\n",
       "</thead>\n",
       "<tbody>\n",
       "\t<tr><td>1</td><td>0.5415381</td><td>0.12952462</td><td> 0</td><td>0.1261809</td><td>0.08767399</td><td>0.1983157</td><td> 7.8293838</td><td> 7.8293838</td></tr>\n",
       "\t<tr><td>2</td><td>0.5390390</td><td>0.07727049</td><td> 0</td><td>0.1741706</td><td>0.45640014</td><td>0.5145293</td><td>11.1822208</td><td>11.1822208</td></tr>\n",
       "\t<tr><td>3</td><td>0.4258586</td><td>        NA</td><td>NA</td><td>0.4759559</td><td>0.95554996</td><td>0.9539974</td><td> 0.9347961</td><td> 0.9347961</td></tr>\n",
       "</tbody>\n",
       "</table>\n"
      ],
      "text/latex": [
       "A matrix: 3 × 9 of type dbl\n",
       "\\begin{tabular}{lllllllll}\n",
       " CC Index & CC Magnitude & Wilk's Lambda & Wilk's Lambda (n) & Roy's Greatest Root & Pillai's Trace & Hotelling-Lawley Trace & Weighted Regression & CSD Regression\\\\\n",
       "\\hline\n",
       "\t 1 & 0.5415381 & 0.12952462 &  0 & 0.1261809 & 0.08767399 & 0.1983157 &  7.8293838 &  7.8293838\\\\\n",
       "\t 2 & 0.5390390 & 0.07727049 &  0 & 0.1741706 & 0.45640014 & 0.5145293 & 11.1822208 & 11.1822208\\\\\n",
       "\t 3 & 0.4258586 &         NA & NA & 0.4759559 & 0.95554996 & 0.9539974 &  0.9347961 &  0.9347961\\\\\n",
       "\\end{tabular}\n"
      ],
      "text/markdown": [
       "\n",
       "A matrix: 3 × 9 of type dbl\n",
       "\n",
       "| CC Index | CC Magnitude | Wilk's Lambda | Wilk's Lambda (n) | Roy's Greatest Root | Pillai's Trace | Hotelling-Lawley Trace | Weighted Regression | CSD Regression |\n",
       "|---|---|---|---|---|---|---|---|---|\n",
       "| 1 | 0.5415381 | 0.12952462 |  0 | 0.1261809 | 0.08767399 | 0.1983157 |  7.8293838 |  7.8293838 |\n",
       "| 2 | 0.5390390 | 0.07727049 |  0 | 0.1741706 | 0.45640014 | 0.5145293 | 11.1822208 | 11.1822208 |\n",
       "| 3 | 0.4258586 |         NA | NA | 0.4759559 | 0.95554996 | 0.9539974 |  0.9347961 |  0.9347961 |\n",
       "\n"
      ],
      "text/plain": [
       "     CC Index CC Magnitude Wilk's Lambda Wilk's Lambda (n) Roy's Greatest Root\n",
       "[1,] 1        0.5415381    0.12952462     0                0.1261809          \n",
       "[2,] 2        0.5390390    0.07727049     0                0.1741706          \n",
       "[3,] 3        0.4258586            NA    NA                0.4759559          \n",
       "     Pillai's Trace Hotelling-Lawley Trace Weighted Regression CSD Regression\n",
       "[1,] 0.08767399     0.1983157               7.8293838           7.8293838    \n",
       "[2,] 0.45640014     0.5145293              11.1822208          11.1822208    \n",
       "[3,] 0.95554996     0.9539974               0.9347961           0.9347961    "
      ]
     },
     "metadata": {},
     "output_type": "display_data"
    }
   ],
   "source": [
    "Results"
   ]
  },
  {
   "cell_type": "code",
   "execution_count": 13,
   "metadata": {
    "vscode": {
     "languageId": "r"
    }
   },
   "outputs": [
    {
     "name": "stdout",
     "output_type": "stream",
     "text": [
      "\n",
      "======================================================\n",
      "1 0.5415 0.1295 0 0.1262 0.0877 0.1983 7.8294  7.8294 \n",
      "2 0.5390 0.0773 0 0.1742 0.4564 0.5145 11.1822 11.1822\n",
      "3 0.4259          0.4760 0.9555 0.9540 0.9348  0.9348 \n",
      "------------------------------------------------------\n",
      "\n",
      "=\n",
      "-\n",
      "-\n"
     ]
    }
   ],
   "source": [
    "\n",
    "stargazer(Results,\n",
    "        title = \"Complete List of Canonical Correlation p-values\", type = \"text\",\n",
    "        column.labels = c(\"CC Index\", \"CC Magnitude\", \"Wilk's Lambda\", \"Wilk's Lambda (n)\", \"Roy's Greatest Root\", \"Pillai's Trace\", \"Hotelling-Lawley Trace\", \"Weighted Regression\", \"CSD Regression\"),\n",
    "        align = TRUE, digits = 4, column.sep.width = \"-\",\n",
    "        row.sep = \"-\",\n",
    "        float = FALSE\n",
    "    )\n"
   ]
  }
 ],
 "metadata": {
  "kernelspec": {
   "display_name": "R",
   "language": "R",
   "name": "ir"
  },
  "language_info": {
   "codemirror_mode": "r",
   "file_extension": ".r",
   "mimetype": "text/x-r-source",
   "name": "R",
   "pygments_lexer": "r",
   "version": "4.2.2"
  },
  "orig_nbformat": 4
 },
 "nbformat": 4,
 "nbformat_minor": 2
}
